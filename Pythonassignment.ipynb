{
  "nbformat": 4,
  "nbformat_minor": 0,
  "metadata": {
    "colab": {
      "provenance": [],
      "authorship_tag": "ABX9TyOuiEGoCZ5ykSAP6rjmGkMd",
      "include_colab_link": true
    },
    "kernelspec": {
      "name": "python3",
      "display_name": "Python 3"
    },
    "language_info": {
      "name": "python"
    }
  },
  "cells": [
    {
      "cell_type": "markdown",
      "metadata": {
        "id": "view-in-github",
        "colab_type": "text"
      },
      "source": [
        "<a href=\"https://colab.research.google.com/github/Jyotiagre/MovieRecommundationSystem/blob/main/Pythonassignment.ipynb\" target=\"_parent\"><img src=\"https://colab.research.google.com/assets/colab-badge.svg\" alt=\"Open In Colab\"/></a>"
      ]
    },
    {
      "cell_type": "code",
      "execution_count": 1,
      "metadata": {
        "id": "OnqaBd8Ga8jl"
      },
      "outputs": [],
      "source": [
        "import requests"
      ]
    },
    {
      "cell_type": "code",
      "source": [
        "from bs4 import BeautifulSoup"
      ],
      "metadata": {
        "id": "bXqYm0U_bA6d"
      },
      "execution_count": 2,
      "outputs": []
    },
    {
      "cell_type": "code",
      "source": [
        "from textblob import TextBlob"
      ],
      "metadata": {
        "id": "9oqqcAlxbEhV"
      },
      "execution_count": 3,
      "outputs": []
    },
    {
      "cell_type": "code",
      "source": [
        "from transformers import pipeline"
      ],
      "metadata": {
        "id": "PL7F6qTfbJM2"
      },
      "execution_count": 4,
      "outputs": []
    },
    {
      "cell_type": "code",
      "source": [
        "# Function to get news headlines from Google News RSS feed\n",
        "def get_google_news_headlines():\n",
        "    url = 'https://news.google.com/rss/search?q=green%20hydrogen&hl=en-IN&gl=IN&ceid=IN:en'\n",
        "    response = requests.get(url)\n",
        "    soup = BeautifulSoup(response.text, 'html.parser')\n",
        "    headlines = [item.title.text for item in soup.find_all('item')]\n",
        "    return headlines"
      ],
      "metadata": {
        "id": "zv2e_2zXbMGM"
      },
      "execution_count": 7,
      "outputs": []
    },
    {
      "cell_type": "code",
      "source": [
        "# Function to perform sentiment analysis using TextBlob\n",
        "def analyze_sentiment(text):\n",
        "    blob = TextBlob(text)\n",
        "    return blob.sentiment.polarity"
      ],
      "metadata": {
        "id": "_G09fhT_bQQk"
      },
      "execution_count": 8,
      "outputs": []
    },
    {
      "cell_type": "code",
      "source": [
        "# Function to perform named entity recognition using Hugging Face NER model\n",
        "def identify_entities(text):\n",
        "    nlp_ner = pipeline(\"ner\")\n",
        "    entities = nlp_ner(text)\n",
        "    return [entity['word'] for entity in entities if entity['entity'] == 'ORG']\n"
      ],
      "metadata": {
        "id": "TAxw5AHXb0bp"
      },
      "execution_count": 9,
      "outputs": []
    },
    {
      "cell_type": "code",
      "source": [
        "# Main function\n",
        "def main():\n",
        "    # Scrape headlines from CNBC\n",
        "    cnbc_headlines = scrape_cnbc()\n",
        "\n",
        "    # Get headlines from Google News RSS feed\n",
        "    google_news_headlines = get_google_news_headlines()\n",
        "\n",
        "    # Combine the headlines\n",
        "    all_headlines = cnbc_headlines + google_news_headlines\n",
        "\n",
        "    # Create a DataFrame\n",
        "    df = pd.DataFrame(all_headlines, columns=['Headline'])\n",
        "    df['News Date'] = pd.to_datetime('now')\n",
        "\n",
        "    # Add sentiment score column\n",
        "    df['Sentiment Score'] = df['Headline'].apply(analyze_sentiment)\n",
        "\n",
        "    # Add organization names using NER\n",
        "    df['Organizations'] = df['Headline'].apply(identify_entities)\n",
        "\n",
        "    # Display the resulting DataFrame\n",
        "    print(df)"
      ],
      "metadata": {
        "id": "wS2Z4tWzb4mc"
      },
      "execution_count": 22,
      "outputs": []
    },
    {
      "cell_type": "code",
      "source": [],
      "metadata": {
        "id": "vWz5gqsIcu7X"
      },
      "execution_count": null,
      "outputs": []
    }
  ]
}